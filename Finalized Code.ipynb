{
 "cells": [
  {
   "cell_type": "code",
   "execution_count": 3,
   "id": "68b36d8c-cabc-4b44-8e60-87d8d9bbf874",
   "metadata": {},
   "outputs": [
    {
     "data": {
      "text/plain": [
       "\"Ooh, you can dance, you can jive\\nHaving the time of your life\\nOoh, see that girl, watch that scene\\nDigging the dancing queen\\n\\nFriday night and the lights are low\\nLooking out for a place to go\\nWhere they play the right music, getting in the swing\\nYou come to look for a king\\n\\nAnybody could be that guy\\nNight is young and the music's high\\nWith a bit of rock music, everything is fine\\nYou're in the mood for a dance\\nAnd when you get the chance\\n\\nYou are the dancing queen\\nYoung and sweet, only seventeen\\nDancing queen\\nFeel the beat from the tambourine\\nOh, yeah\\n\\nYou can dance, you can jive\\nHaving the time of your life\\nOoh, see that girl, watch that scene\\nDigging the dancing queen\\n\\nYou're a teaser, you turn 'em on\\nLeave them burning and then you're gone\\nLooking out for another, anyone will do\\nYou're in the mood for a dance\\nAnd when you get the chance\\n\\nYou are the dancing queen\\nYoung and sweet, only seventeen\\nDancing queen\\nFeel the beat from the tambourine\\nOh, yeah\\n\\nYou can dance, you can jive\\nHaving the time of your life\\nOoh, see that girl, watch that scene\\nDigging the dancing queen\\n\\nDigging the dancing queen\""
      ]
     },
     "execution_count": 3,
     "metadata": {},
     "output_type": "execute_result"
    }
   ],
   "source": [
    "# Get the Lyrics from AZAPI and save as a generic file\n",
    "\n",
    "import azapi\n",
    "import requests\n",
    "\n",
    "API = azapi.AZlyrics('google', accuracy=0.5)\n",
    "\n",
    "API.artist = 'justin bieber'\n",
    "API.title = 'peaches'\n",
    "\n",
    "API.getLyrics(save=True, ext='')"
   ]
  },
  {
   "cell_type": "code",
   "execution_count": 55,
   "id": "89def811-c970-41d4-861c-9736f925a4da",
   "metadata": {},
   "outputs": [],
   "source": [
    "#Clean lyrics into clean words ready for lemmatization (lower case, alpha only, no punct, remove stopwords)\n",
    "\n",
    "import os\n",
    "import requests\n",
    "from nltk.corpus import stopwords\n",
    "with open('C:\\\\Users\\\\gcerc\\\\Desktop\\\\NWMO\\\\Module 2 - Data Aquisition\\\\Data Files\\\\Peaches - Justin Bieber.txt') as file:\n",
    "    new_file_name = file.read()\n",
    "indiv_words = new_file_name.split()\n",
    "alpha_only_words = [word for word in indiv_words if word.isalpha()]\n",
    "alpha_only_lower_case = [word.lower() for word in alpha_only_words]\n",
    "nltk_corpus_stopwords = set(stopwords.words('english')) \n",
    "cleaned_words = [word for word in alpha_only_lower_case if word not in nltk_corpus_stopwords]\n",
    "\n",
    "#Lemmatize cleaned words and create a finalized blob for processing\n",
    "\n",
    "import spacy\n",
    "from spacytextblob.spacytextblob import SpacyTextBlob\n",
    "string_cleaned_words=' '.join(map(str, cleaned_words))\n",
    "nlp = spacy.load('en_core_web_trf')\n",
    "nlp.add_pipe(\"spacytextblob\")\n",
    "lemmatizer = nlp(string_cleaned_words)\n",
    "for token in lemmatizer:\n",
    "    finalized_list=[token.lemma_ for token in lemmatizer]\n",
    "finalized_blob=' '.join(map(str, finalized_list))\n",
    "\n",
    "#Write finalized blob - fully ready for analysis - to text file\n",
    "\n",
    "text_file = open('C:\\\\Users\\\\gcerc\\\\Desktop\\\\NWMO\\\\Module 3 - Methodology (cleaning) assignment\\\\Lyrics Ready to Process (lemmas, cleaned)\\\\Peaches - Justin Bieber - cleaned.txt', \"w\")\n",
    "n = text_file.write(finalized_blob)\n",
    "text_file.close()"
   ]
  },
  {
   "cell_type": "code",
   "execution_count": 105,
   "id": "f0d71b6e-0fdb-4216-8601-fc66bebb3ae4",
   "metadata": {},
   "outputs": [
    {
     "name": "stdout",
     "output_type": "stream",
     "text": [
      "0.2909937888198758\n"
     ]
    }
   ],
   "source": [
    "#Perform sentiment analysis to obtain polarity\n",
    "\n",
    "import spacy\n",
    "from spacytextblob.spacytextblob import SpacyTextBlob\n",
    "nlp = spacy.load('en_core_web_trf')\n",
    "nlp.add_pipe(\"spacytextblob\")\n",
    "with open('C:\\\\Users\\\\gcerc\\\\Desktop\\\\NWMO\\\\Module 3 - Methodology (cleaning) assignment\\\\Lyrics Ready to Process (lemmas, cleaned)\\\\peaches - justin bieber - Cleaned.txt') as file:\n",
    "    sentiment_analysis = file.read()\n",
    "polarity_result = nlp(sentiment_analysis)\n",
    "print(polarity_result._.polarity)"
   ]
  },
  {
   "cell_type": "code",
   "execution_count": null,
   "id": "bb1c1141-16c3-4699-92dd-c3d7a5542821",
   "metadata": {},
   "outputs": [],
   "source": []
  }
 ],
 "metadata": {
  "kernelspec": {
   "display_name": "Python 3 (ipykernel)",
   "language": "python",
   "name": "python3"
  },
  "language_info": {
   "codemirror_mode": {
    "name": "ipython",
    "version": 3
   },
   "file_extension": ".py",
   "mimetype": "text/x-python",
   "name": "python",
   "nbconvert_exporter": "python",
   "pygments_lexer": "ipython3",
   "version": "3.7.13"
  }
 },
 "nbformat": 4,
 "nbformat_minor": 5
}
