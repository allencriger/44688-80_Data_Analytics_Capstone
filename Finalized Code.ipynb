{
 "cells": [
  {
   "cell_type": "code",
   "execution_count": 1,
   "id": "68b36d8c-cabc-4b44-8e60-87d8d9bbf874",
   "metadata": {},
   "outputs": [
    {
     "data": {
      "text/plain": [
       "\"[Justin Bieber:]\\nI got my peaches out in Georgia (Oh, yeah, shit)\\nI get my weed from California (That's that shit)\\nI took my chick up to the North, yeah (Badass bitch)\\nI get my light right from the source, yeah (Yeah, that's it)\\n\\nAnd I say, oh (Oh)\\nThe way I breathe you in (In)\\nIt's the texture of your skin\\nI wanna wrap my arms around you, baby\\nNever let you go, oh\\nAnd I say, oh\\nThere's nothing like your touch\\nIt's the way you lift me up, yeah\\nAnd I'll be right here with you 'til the end of time\\n\\nI got my peaches out in Georgia (Oh, yeah, shit)\\nI get my weed from California (That's that shit)\\nI took my chick up to the North, yeah (Badass bitch)\\nI get my light right from the source, yeah (Yeah, that's it)\\n\\nYou ain't sure yet\\nBut I'm for ya\\nAll I can want, all I can wish for\\nNights alone that we miss more\\nAnd days we save as souvenirs\\nThere's no time, I wanna make more time\\nAnd give you my whole life\\nI left my girl, I'm in Mallorca\\nHate to leave her, call it torture\\nRemember when I couldn't hold her\\nLeft her baggage for Rimowa\\n\\nI got my peaches out in Georgia (Oh, yeah, shit)\\nI get my weed from California (That's that shit)\\nI took my chick up to the North, yeah (Badass bitch)\\nI get my light right from the source, yeah (Yeah, that's it)\\n\\n[GIVĒON:]\\nI get the feeling, so I'm sure (Sure)\\nHand in my hand because I'm yours, I can't\\nI can't pretend, I can't ignore, you're right for me\\nDon't think you wanna know just where I've been, oh\\nDone bein' distracted\\nThe one I need is right in my arms (Oh)\\nYour kisses taste the sweetest with mine\\nAnd I'll be right here with you 'til the end of time\\n\\n[Justin Bieber:]\\nI got my peaches out in Georgia (Oh, yeah, shit)\\nI get my weed from California (That's that shit)\\nI took my chick up to the North, yeah (Badass bitch)\\nI get my light right from the source, yeah (Yeah, that's it)\\n\\nI got my peaches out in Georgia (Oh, yeah, shit)\\nI get my weed from California (That's that shit)\\nI took my chick up to the North, yeah (Badass bitch)\\n(I get my light right from the source, yeah, yeah, that's it)\\n\\nI got my peaches out in Georgia (Oh, yeah, shit)\\nI get my weed from California (That's that shit)\\nI took my chick up to the North, yeah (Badass bitch)\\nI get my light right from the source, yeah (Yeah, that's it)\\n\\nI got my peaches out in Georgia (Oh, yeah, shit)\\nI get my weed from California (That's that shit)\\nI took my chick up to the North, yeah (Badass bitch)\\nI get my light right from the source, yeah (Yeah, that's it)\""
      ]
     },
     "execution_count": 1,
     "metadata": {},
     "output_type": "execute_result"
    }
   ],
   "source": [
    "# Get the Lyrics from AZAPI and save as a generic file\n",
    "\n",
    "import azapi\n",
    "import requests\n",
    "\n",
    "API = azapi.AZlyrics('google', accuracy=0.5)\n",
    "\n",
    "API.artist = 'justin bieber'\n",
    "API.title = 'peaches'\n",
    "\n",
    "API.getLyrics(save=True, ext='')"
   ]
  },
  {
   "cell_type": "code",
   "execution_count": 2,
   "id": "89def811-c970-41d4-861c-9736f925a4da",
   "metadata": {},
   "outputs": [
    {
     "name": "stderr",
     "output_type": "stream",
     "text": [
      "C:\\Users\\gcerc\\miniconda3\\lib\\site-packages\\torch\\amp\\autocast_mode.py:198: UserWarning: User provided device_type of 'cuda', but CUDA is not available. Disabling\n",
      "  warnings.warn('User provided device_type of \\'cuda\\', but CUDA is not available. Disabling')\n"
     ]
    }
   ],
   "source": [
    "#Clean lyrics into clean words ready for lemmatization (lower case, alpha only, no punct, remove stopwords)\n",
    "\n",
    "import os\n",
    "import requests\n",
    "from nltk.corpus import stopwords\n",
    "with open('C:\\\\Users\\\\gcerc\\\\Desktop\\\\NWMO\\\\Module 2 - Data Aquisition\\\\Data Files\\\\Peaches - Justin Bieber.txt') as file:\n",
    "    new_file_name = file.read()\n",
    "indiv_words = new_file_name.split()\n",
    "alpha_only_words = [word for word in indiv_words if word.isalpha()]\n",
    "alpha_only_lower_case = [word.lower() for word in alpha_only_words]\n",
    "nltk_corpus_stopwords = set(stopwords.words('english')) \n",
    "cleaned_words = [word for word in alpha_only_lower_case if word not in nltk_corpus_stopwords]\n",
    "\n",
    "#Lemmatize cleaned words and create a finalized blob for processing\n",
    "\n",
    "import spacy\n",
    "from spacytextblob.spacytextblob import SpacyTextBlob\n",
    "string_cleaned_words=' '.join(map(str, cleaned_words))\n",
    "nlp = spacy.load('en_core_web_trf')\n",
    "nlp.add_pipe(\"spacytextblob\")\n",
    "lemmatizer = nlp(string_cleaned_words)\n",
    "for token in lemmatizer:\n",
    "    finalized_list=[token.lemma_ for token in lemmatizer]\n",
    "finalized_blob=' '.join(map(str, finalized_list))\n",
    "\n",
    "#Write finalized blob - fully ready for analysis - to text file\n",
    "\n",
    "text_file = open('C:\\\\Users\\\\gcerc\\\\Desktop\\\\NWMO\\\\Module 3 - Methodology (cleaning) assignment\\\\Lyrics Ready to Process (lemmas, cleaned)\\\\Peaches - Justin Bieber - cleaned.txt', \"w\")\n",
    "n = text_file.write(finalized_blob)\n",
    "text_file.close()"
   ]
  },
  {
   "cell_type": "code",
   "execution_count": 3,
   "id": "f0d71b6e-0fdb-4216-8601-fc66bebb3ae4",
   "metadata": {},
   "outputs": [
    {
     "name": "stdout",
     "output_type": "stream",
     "text": [
      "0.2909937888198758\n"
     ]
    }
   ],
   "source": [
    "#Perform sentiment analysis to obtain polarity\n",
    "\n",
    "import spacy\n",
    "from spacytextblob.spacytextblob import SpacyTextBlob\n",
    "nlp = spacy.load('en_core_web_trf')\n",
    "nlp.add_pipe(\"spacytextblob\")\n",
    "with open('C:\\\\Users\\\\gcerc\\\\Desktop\\\\NWMO\\\\Module 3 - Methodology (cleaning) assignment\\\\Lyrics Ready to Process (lemmas, cleaned)\\\\peaches - justin bieber - Cleaned.txt') as file:\n",
    "    sentiment_analysis = file.read()\n",
    "polarity_result = nlp(sentiment_analysis)\n",
    "print(polarity_result._.polarity)"
   ]
  },
  {
   "cell_type": "code",
   "execution_count": null,
   "id": "bb1c1141-16c3-4699-92dd-c3d7a5542821",
   "metadata": {},
   "outputs": [],
   "source": []
  }
 ],
 "metadata": {
  "kernelspec": {
   "display_name": "Python 3 (ipykernel)",
   "language": "python",
   "name": "python3"
  },
  "language_info": {
   "codemirror_mode": {
    "name": "ipython",
    "version": 3
   },
   "file_extension": ".py",
   "mimetype": "text/x-python",
   "name": "python",
   "nbconvert_exporter": "python",
   "pygments_lexer": "ipython3",
   "version": "3.7.13"
  }
 },
 "nbformat": 4,
 "nbformat_minor": 5
}
